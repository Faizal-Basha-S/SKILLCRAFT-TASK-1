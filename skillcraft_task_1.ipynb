{
  "nbformat": 4,
  "nbformat_minor": 0,
  "metadata": {
    "colab": {
      "provenance": [],
      "authorship_tag": "ABX9TyM3cwMUOyhRTbxmUhxunWMl",
      "include_colab_link": true
    },
    "kernelspec": {
      "name": "python3",
      "display_name": "Python 3"
    },
    "language_info": {
      "name": "python"
    }
  },
  "cells": [
    {
      "cell_type": "markdown",
      "metadata": {
        "id": "view-in-github",
        "colab_type": "text"
      },
      "source": [
        "<a href=\"https://colab.research.google.com/github/Faizal-Basha-S/SKILLCRAFT-TASK-1/blob/main/skillcraft_task_1.ipynb\" target=\"_parent\"><img src=\"https://colab.research.google.com/assets/colab-badge.svg\" alt=\"Open In Colab\"/></a>"
      ]
    },
    {
      "cell_type": "code",
      "execution_count": null,
      "metadata": {
        "id": "E3CQm8a0dEvy"
      },
      "outputs": [],
      "source": [
        "import pandas as pd\n",
        "import matplotlib.pyplot as plt\n",
        "import seaborn as sns"
      ]
    },
    {
      "cell_type": "code",
      "source": [
        "# Define file paths\n",
        "dataset_1 = \"./Metadata_Indicator_API_SP.POP.TOTL_DS2_en_csv_v2_76253.csv\"\n",
        "dataset_2 = \"./Metadata_Country_API_SP.POP.TOTL_DS2_en_csv_v2_76253.csv\"\n",
        "dataset_3 = \"./API_SP.POP.TOTL_DS2_en_csv_v2_76253.csv\"\n"
      ],
      "metadata": {
        "id": "PjDUMInzv3nF"
      },
      "execution_count": null,
      "outputs": []
    },
    {
      "cell_type": "code",
      "source": [
        "# Read datasets\n",
        "df_indicator = pd.read_csv(dataset_1, skiprows=0)\n",
        "df_country = pd.read_csv(dataset_2, skiprows=0)\n",
        "df_population = pd.read_csv(dataset_3, skiprows=4)"
      ],
      "metadata": {
        "id": "bjvqKc3zv_ap"
      },
      "execution_count": null,
      "outputs": []
    },
    {
      "cell_type": "code",
      "source": [
        "# Data Exploring\n",
        "print(\"Indicator Dataset Sample:\")\n",
        "print(df_indicator.head())\n",
        "print(\"\\nCountry Dataset Sample:\")\n",
        "print(df_country.head())\n",
        "print(\"\\nPopulation Dataset Sample:\")\n",
        "print(df_population.head())"
      ],
      "metadata": {
        "colab": {
          "base_uri": "https://localhost:8080/"
        },
        "id": "-5ZJ_bDmwTFt",
        "outputId": "ed8c1689-9651-4dc5-f7c2-9f89f4a73965"
      },
      "execution_count": null,
      "outputs": [
        {
          "output_type": "stream",
          "name": "stdout",
          "text": [
            "Indicator Dataset Sample:\n",
            "  INDICATOR_CODE     INDICATOR_NAME  \\\n",
            "0    SP.POP.TOTL  Population, total   \n",
            "\n",
            "                                         SOURCE_NOTE  \\\n",
            "0  Total population is based on the de facto defi...   \n",
            "\n",
            "                                 SOURCE_ORGANIZATION  Unnamed: 4  \n",
            "0  (1) United Nations Population Division. World ...         NaN  \n",
            "\n",
            "Country Dataset Sample:\n",
            "  Country Code                     Region          IncomeGroup  \\\n",
            "0          ABW  Latin America & Caribbean          High income   \n",
            "1          AFE                        NaN                  NaN   \n",
            "2          AFG                 South Asia           Low income   \n",
            "3          AFW                        NaN                  NaN   \n",
            "4          AGO         Sub-Saharan Africa  Lower middle income   \n",
            "\n",
            "                                        SpecialNotes  \\\n",
            "0                                                NaN   \n",
            "1  26 countries, stretching from the Red Sea in t...   \n",
            "2  The reporting period for national accounts dat...   \n",
            "3  22 countries, stretching from the westernmost ...   \n",
            "4  The World Bank systematically assesses the app...   \n",
            "\n",
            "                     TableName  Unnamed: 5  \n",
            "0                        Aruba         NaN  \n",
            "1  Africa Eastern and Southern         NaN  \n",
            "2                  Afghanistan         NaN  \n",
            "3   Africa Western and Central         NaN  \n",
            "4                       Angola         NaN  \n",
            "\n",
            "Population Dataset Sample:\n",
            "                  Country Name Country Code     Indicator Name Indicator Code  \\\n",
            "0                        Aruba          ABW  Population, total    SP.POP.TOTL   \n",
            "1  Africa Eastern and Southern          AFE  Population, total    SP.POP.TOTL   \n",
            "2                  Afghanistan          AFG  Population, total    SP.POP.TOTL   \n",
            "3   Africa Western and Central          AFW  Population, total    SP.POP.TOTL   \n",
            "4                       Angola          AGO  Population, total    SP.POP.TOTL   \n",
            "\n",
            "          1960         1961         1962         1963         1964  \\\n",
            "0      54922.0      55578.0      56320.0      57002.0      57619.0   \n",
            "1  130072080.0  133534923.0  137171659.0  140945536.0  144904094.0   \n",
            "2    9035043.0    9214083.0    9404406.0    9604487.0    9814318.0   \n",
            "3   97630925.0   99706674.0  101854756.0  104089175.0  106388440.0   \n",
            "4    5231654.0    5301583.0    5354310.0    5408320.0    5464187.0   \n",
            "\n",
            "          1965  ...         2015         2016         2017         2018  \\\n",
            "0      58190.0  ...     107906.0     108727.0     108735.0     108908.0   \n",
            "1  149033472.0  ...  607123269.0  623369401.0  640058741.0  657801085.0   \n",
            "2   10036008.0  ...   33831764.0   34700612.0   35688935.0   36743039.0   \n",
            "3  108772632.0  ...  418127845.0  429454743.0  440882906.0  452195915.0   \n",
            "4    5521981.0  ...   28157798.0   29183070.0   30234839.0   31297155.0   \n",
            "\n",
            "          2019         2020         2021         2022         2023  \\\n",
            "0     109203.0     108587.0     107700.0     107310.0     107359.0   \n",
            "1  675950189.0  694446100.0  713090928.0  731821393.0  750503764.0   \n",
            "2   37856121.0   39068979.0   40000412.0   40578842.0   41454761.0   \n",
            "3  463365429.0  474569351.0  485920997.0  497387180.0  509398589.0   \n",
            "4   32375632.0   33451132.0   34532429.0   35635029.0   36749906.0   \n",
            "\n",
            "   Unnamed: 68  \n",
            "0          NaN  \n",
            "1          NaN  \n",
            "2          NaN  \n",
            "3          NaN  \n",
            "4          NaN  \n",
            "\n",
            "[5 rows x 69 columns]\n"
          ]
        }
      ]
    },
    {
      "cell_type": "code",
      "source": [
        "# Selecting relevant columns\n",
        "df_population_cleaned = df_population.melt(id_vars=[\"Country Name\", \"Country Code\", \"Indicator Name\", \"Indicator Code\"],\n",
        "                                           var_name=\"Year\", value_name=\"Population\")\n",
        "df_population_cleaned.drop(columns=[\"Indicator Name\", \"Indicator Code\"], inplace=True)\n",
        "df_population_cleaned.dropna(inplace=True)\n",
        "df_population_cleaned[\"Year\"] = df_population_cleaned[\"Year\"].astype(int)\n"
      ],
      "metadata": {
        "id": "-OZyGGpgwcW-"
      },
      "execution_count": null,
      "outputs": []
    },
    {
      "cell_type": "code",
      "source": [
        "# Visualization - Population Distribution\n",
        "plt.figure(figsize=(12, 6))\n",
        "sns.histplot(df_population_cleaned[df_population_cleaned[\"Year\"] == 2020][\"Population\"], bins=30, kde=True)\n",
        "plt.xlabel(\"Population\")\n",
        "plt.ylabel(\"Frequency\")\n",
        "plt.title(\"Population Distribution in 2020\")\n",
        "plt.show()\n"
      ],
      "metadata": {
        "colab": {
          "base_uri": "https://localhost:8080/",
          "height": 532
        },
        "id": "0FNDND3fwn8x",
        "outputId": "f34f257a-62c8-4d31-b180-1006a7d6ce80"
      },
      "execution_count": null,
      "outputs": [
        {
          "output_type": "display_data",
          "data": {
            "text/plain": [
              "<Figure size 1200x600 with 1 Axes>"
            ],
            "image/png": "[encoded data removed]"
          },
          "metadata": {}
        }
      ]
    },
    {
      "cell_type": "code",
      "source": [
        "# Save Cleaned Data for Further Analysis\n",
        "df_population_cleaned.to_csv(\"./population_cleaned.csv\", index=False)\n",
        "\n",
        "print(\"Data processing and visualization completed successfully.\")\n"
      ],
      "metadata": {
        "colab": {
          "base_uri": "https://localhost:8080/"
        },
        "id": "eIfSSIM-wq6y",
        "outputId": "f74fbdf0-5378-46a8-a26b-a116da2986fe"
      },
      "execution_count": null,
      "outputs": [
        {
          "output_type": "stream",
          "name": "stdout",
          "text": [
            "Data processing and visualization completed successfully.\n"
          ]
        }
      ]
    }
  ]
}